{
  "nbformat": 4,
  "nbformat_minor": 0,
  "metadata": {
    "colab": {
      "provenance": [],
      "collapsed_sections": [
        "CaDjANt0Lws2",
        "XL03gZIJMomS",
        "T2wdxR_1p0xt",
        "me3uKxpwNJF_"
      ],
      "authorship_tag": "ABX9TyM+g0bqprD+ieiG9E7pSl3o",
      "include_colab_link": true
    },
    "kernelspec": {
      "name": "python3",
      "display_name": "Python 3"
    },
    "language_info": {
      "name": "python"
    }
  },
  "cells": [
    {
      "cell_type": "markdown",
      "metadata": {
        "id": "view-in-github",
        "colab_type": "text"
      },
      "source": [
        "<a href=\"https://colab.research.google.com/github/MTahaRF/House-Prices---Advanced-Regression-Techniques-Competition/blob/main/House_Prices.ipynb\" target=\"_parent\"><img src=\"https://colab.research.google.com/assets/colab-badge.svg\" alt=\"Open In Colab\"/></a>"
      ]
    },
    {
      "cell_type": "markdown",
      "source": [
        "#House Prices Competion\n",
        "\n",
        "\n",
        "---\n",
        "\n",
        "\n",
        "File descriptions\n",
        "\n",
        "train.csv - the training set\n",
        "\n",
        "test.csv - the test set\n",
        "data_description.txt - full description of each column, originally prepared by Dean De Cock but lightly edited to match the column names used here\n",
        "\n",
        "sample_submission.csv - a benchmark submission from a linear regression on year and month of sale, lot square footage, and number of bedrooms\n",
        "\n",
        "\n",
        "---\n",
        "\n",
        "\n",
        "#Data fields\n",
        "\n",
        "\n",
        "---\n",
        "\n",
        "\n",
        "Here's a brief version of what you'll find in the data description file.\n",
        "\n",
        "SalePrice - the property's sale price in dollars. This is the target variable that you're trying to predict.\n",
        "\n",
        "MSSubClass: The building class\n",
        "\n",
        "MSZoning: The general zoning classification\n",
        "\n",
        "LotFrontage: Linear feet of street connected to property\n",
        "\n",
        "LotArea: Lot size in square feet\n",
        "\n",
        "Street: Type of road access\n",
        "\n",
        "Alley: Type of alley access\n",
        "\n",
        "LotShape: General shape of property\n",
        "\n",
        "LandContour: Flatness of the property\n",
        "\n",
        "Utilities: Type of utilities available\n",
        "\n",
        "LotConfig: Lot configuration\n",
        "\n",
        "LandSlope: Slope of property\n",
        "\n",
        "Neighborhood: Physical locations within Ames city limits\n",
        "\n",
        "Condition1: Proximity to main road or railroad\n",
        "\n",
        "Condition2: Proximity to main road or railroad (if a second is present)\n",
        "\n",
        "BldgType: Type of dwelling\n",
        "\n",
        "HouseStyle: Style of dwelling\n",
        "\n",
        "OverallQual: Overall material and finish quality\n",
        "\n",
        "OverallCond: Overall condition rating\n",
        "\n",
        "YearBuilt: Original construction date\n",
        "\n",
        "YearRemodAdd: Remodel date\n",
        "\n",
        "RoofStyle: Type of roof\n",
        "\n",
        "RoofMatl: Roof material\n",
        "\n",
        "Exterior1st: Exterior covering on house\n",
        "\n",
        "Exterior2nd: Exterior covering on house (if more than one material)\n",
        "\n",
        "MasVnrType: Masonry veneer type\n",
        "\n",
        "MasVnrArea: Masonry veneer area in square feet\n",
        "\n",
        "ExterQual: Exterior material quality\n",
        "\n",
        "ExterCond: Present condition of the material on the exterior\n",
        "\n",
        "Foundation: Type of foundation\n",
        "\n",
        "BsmtQual: Height of the basement\n",
        "\n",
        "BsmtCond: General condition of the basement\n",
        "\n",
        "BsmtExposure: Walkout or garden level basement walls\n",
        "\n",
        "BsmtFinType1: Quality of basement finished area\n",
        "\n",
        "BsmtFinSF1: Type 1 finished square feet\n",
        "\n",
        "BsmtFinType2: Quality of second finished area (if present)\n",
        "\n",
        "BsmtFinSF2: Type 2 finished square feet\n",
        "\n",
        "BsmtUnfSF: Unfinished square feet of basement area\n",
        "\n",
        "TotalBsmtSF: Total square feet of basement area\n",
        "\n",
        "Heating: Type of heating\n",
        "\n",
        "HeatingQC: Heating quality and condition\n",
        "\n",
        "CentralAir: Central air conditioning\n",
        "\n",
        "Electrical: Electrical system\n",
        "\n",
        "1stFlrSF: First Floor square feet\n",
        "\n",
        "2ndFlrSF: Second floor square feet\n",
        "\n",
        "LowQualFinSF: Low quality finished square feet (all floors)\n",
        "\n",
        "GrLivArea: Above grade (ground) living area square feet\n",
        "\n",
        "BsmtFullBath: Basement full bathrooms\n",
        "\n",
        "BsmtHalfBath: Basement half bathrooms\n",
        "\n",
        "FullBath: Full bathrooms above grade\n",
        "\n",
        "HalfBath: Half baths above grade\n",
        "\n",
        "Bedroom: Number of bedrooms above basement level\n",
        "\n",
        "Kitchen: Number of kitchens\n",
        "\n",
        "KitchenQual: Kitchen quality\n",
        "\n",
        "TotRmsAbvGrd: Total rooms above grade (does not include bathrooms)\n",
        "\n",
        "Functional: Home functionality rating\n",
        "\n",
        "Fireplaces: Number of fireplaces\n",
        "\n",
        "FireplaceQu: Fireplace quality\n",
        "\n",
        "GarageType: Garage location\n",
        "\n",
        "GarageYrBlt: Year garage was built\n",
        "\n",
        "GarageFinish: Interior finish of the garage\n",
        "\n",
        "GarageCars: Size of garage in car capacity\n",
        "\n",
        "GarageArea: Size of garage in square feet\n",
        "\n",
        "GarageQual: Garage quality\n",
        "\n",
        "GarageCond: Garage condition\n",
        "\n",
        "PavedDrive: Paved driveway\n",
        "\n",
        "WoodDeckSF: Wood deck area in square feet\n",
        "\n",
        "OpenPorchSF: Open porch area in square feet\n",
        "\n",
        "EnclosedPorch: Enclosed porch area in square feet\n",
        "\n",
        "3SsnPorch: Three season porch area in square feet\n",
        "\n",
        "ScreenPorch: Screen porch area in square feet\n",
        "\n",
        "PoolArea: Pool area in square feet\n",
        "PoolQC: Pool quality\n",
        "\n",
        "Fence: Fence quality\n",
        "\n",
        "MiscFeature: Miscellaneous feature not covered in other categories\n",
        "\n",
        "MiscVal: $Value of miscellaneous feature\n",
        "\n",
        "MoSold: Month Sold\n",
        "\n",
        "YrSold: Year Sold\n",
        "\n",
        "SaleType: Type of sale\n",
        "\n",
        "SaleCondition: Condition of sale\n",
        "\n",
        "\n",
        "---\n",
        "\n"
      ],
      "metadata": {
        "id": "lLQu3E-QI9E1"
      }
    },
    {
      "cell_type": "markdown",
      "source": [
        "#Agenda\n",
        "---\n",
        "Loading Libraries\n",
        "\n",
        "Loading Data\n",
        "\n",
        "Getting Basic Idea About Data\n",
        "\n",
        "Missing Values and Dealing with Missing Values\n",
        "\n",
        "One Hot Encoding (Creating dummies for categorical columns)\n",
        "\n",
        "Standardization / Normalization\n",
        "\n",
        "Splitting the dataset into train and test data\n",
        "\n",
        "Dealing with Imbalanced Data\n",
        "\n",
        "Generate Synthetic Samples\n",
        "\n",
        "\n",
        "---\n",
        "\n",
        "\n"
      ],
      "metadata": {
        "id": "uOi1xZ61Jtq-"
      }
    },
    {
      "cell_type": "markdown",
      "source": [
        "#Loading Libraries"
      ],
      "metadata": {
        "id": "N5sM9T_uKdVN"
      }
    },
    {
      "cell_type": "code",
      "source": [
        " ! pip install kaggle\n",
        " ! mkdir ~/.kaggle\n",
        " ! cp kaggle.json ~/.kaggle/\n",
        " ! chmod 600 ~/.kaggle/kaggle.json\n",
        " ! kaggle competitions download -c House-Prices-Advanced-Regression-Techniques\n",
        " ! unzip House-Prices-Advanced-Regression-Techniques.zip"
      ],
      "metadata": {
        "colab": {
          "base_uri": "https://localhost:8080/"
        },
        "id": "8uIdIlIG9pz9",
        "outputId": "81afd70f-cfa4-4ec0-9d2a-c233bf29f10c"
      },
      "execution_count": 2,
      "outputs": [
        {
          "output_type": "stream",
          "name": "stdout",
          "text": [
            "Requirement already satisfied: kaggle in /usr/local/lib/python3.10/dist-packages (1.6.12)\n",
            "Requirement already satisfied: six>=1.10 in /usr/local/lib/python3.10/dist-packages (from kaggle) (1.16.0)\n",
            "Requirement already satisfied: certifi>=2023.7.22 in /usr/local/lib/python3.10/dist-packages (from kaggle) (2024.2.2)\n",
            "Requirement already satisfied: python-dateutil in /usr/local/lib/python3.10/dist-packages (from kaggle) (2.8.2)\n",
            "Requirement already satisfied: requests in /usr/local/lib/python3.10/dist-packages (from kaggle) (2.31.0)\n",
            "Requirement already satisfied: tqdm in /usr/local/lib/python3.10/dist-packages (from kaggle) (4.66.4)\n",
            "Requirement already satisfied: python-slugify in /usr/local/lib/python3.10/dist-packages (from kaggle) (8.0.4)\n",
            "Requirement already satisfied: urllib3 in /usr/local/lib/python3.10/dist-packages (from kaggle) (2.0.7)\n",
            "Requirement already satisfied: bleach in /usr/local/lib/python3.10/dist-packages (from kaggle) (6.1.0)\n",
            "Requirement already satisfied: webencodings in /usr/local/lib/python3.10/dist-packages (from bleach->kaggle) (0.5.1)\n",
            "Requirement already satisfied: text-unidecode>=1.3 in /usr/local/lib/python3.10/dist-packages (from python-slugify->kaggle) (1.3)\n",
            "Requirement already satisfied: charset-normalizer<4,>=2 in /usr/local/lib/python3.10/dist-packages (from requests->kaggle) (3.3.2)\n",
            "Requirement already satisfied: idna<4,>=2.5 in /usr/local/lib/python3.10/dist-packages (from requests->kaggle) (3.7)\n",
            "Downloading House-Prices-Advanced-Regression-Techniques.zip to /content\n",
            "100% 199k/199k [00:00<00:00, 544kB/s]\n",
            "100% 199k/199k [00:00<00:00, 544kB/s]\n",
            "Archive:  House-Prices-Advanced-Regression-Techniques.zip\n",
            "  inflating: data_description.txt    \n",
            "  inflating: sample_submission.csv   \n",
            "  inflating: test.csv                \n",
            "  inflating: train.csv               \n"
          ]
        }
      ]
    },
    {
      "cell_type": "code",
      "source": [
        "import numpy as np\n",
        "import pandas as pd\n",
        "import matplotlib.pyplot as plt\n",
        "import seaborn as sns\n",
        "import warnings\n",
        "warnings.filterwarnings('ignore')"
      ],
      "metadata": {
        "id": "8sBJWNooKheP"
      },
      "execution_count": 132,
      "outputs": []
    },
    {
      "cell_type": "markdown",
      "source": [
        "#Loading Data"
      ],
      "metadata": {
        "id": "RHsB24-rLlFH"
      }
    },
    {
      "cell_type": "code",
      "source": [
        "train=pd.read_csv(\"/content/train.csv\")\n",
        "test=pd.read_csv(\"/content/test.csv\")\n",
        "test.shape"
      ],
      "metadata": {
        "id": "0lnE2QL2LtTj",
        "colab": {
          "base_uri": "https://localhost:8080/"
        },
        "outputId": "fe79c38e-9ff5-4be0-cfaa-86a1981f1fe4"
      },
      "execution_count": 133,
      "outputs": [
        {
          "output_type": "execute_result",
          "data": {
            "text/plain": [
              "(1459, 80)"
            ]
          },
          "metadata": {},
          "execution_count": 133
        }
      ]
    },
    {
      "cell_type": "code",
      "source": [
        "X = train.drop(['SalePrice'],axis=1)\n",
        "y = train.SalePrice"
      ],
      "metadata": {
        "id": "VxG7WIOG-Suq"
      },
      "execution_count": 134,
      "outputs": []
    },
    {
      "cell_type": "code",
      "source": [
        "from sklearn.model_selection import train_test_split\n",
        "X_train, X_valid, y_train, y_valid = train_test_split(X, y)\n",
        "X_train.shape,X_valid.shape"
      ],
      "metadata": {
        "colab": {
          "base_uri": "https://localhost:8080/"
        },
        "id": "ABnH_rWt85wa",
        "outputId": "e10ffa95-45e8-47f4-fe32-7915c178b19e"
      },
      "execution_count": 135,
      "outputs": [
        {
          "output_type": "execute_result",
          "data": {
            "text/plain": [
              "((1095, 80), (365, 80))"
            ]
          },
          "metadata": {},
          "execution_count": 135
        }
      ]
    },
    {
      "cell_type": "markdown",
      "source": [
        "#Understanding the Data"
      ],
      "metadata": {
        "id": "CaDjANt0Lws2"
      }
    },
    {
      "cell_type": "code",
      "source": [
        "train.head()"
      ],
      "metadata": {
        "id": "p4aE8zuPML9S",
        "colab": {
          "base_uri": "https://localhost:8080/",
          "height": 256
        },
        "outputId": "f0d2743a-4556-4098-92e2-b0f374487826"
      },
      "execution_count": 136,
      "outputs": [
        {
          "output_type": "execute_result",
          "data": {
            "text/plain": [
              "   Id  MSSubClass MSZoning  LotFrontage  LotArea Street Alley LotShape  \\\n",
              "0   1          60       RL         65.0     8450   Pave   NaN      Reg   \n",
              "1   2          20       RL         80.0     9600   Pave   NaN      Reg   \n",
              "2   3          60       RL         68.0    11250   Pave   NaN      IR1   \n",
              "3   4          70       RL         60.0     9550   Pave   NaN      IR1   \n",
              "4   5          60       RL         84.0    14260   Pave   NaN      IR1   \n",
              "\n",
              "  LandContour Utilities  ... PoolArea PoolQC Fence MiscFeature MiscVal MoSold  \\\n",
              "0         Lvl    AllPub  ...        0    NaN   NaN         NaN       0      2   \n",
              "1         Lvl    AllPub  ...        0    NaN   NaN         NaN       0      5   \n",
              "2         Lvl    AllPub  ...        0    NaN   NaN         NaN       0      9   \n",
              "3         Lvl    AllPub  ...        0    NaN   NaN         NaN       0      2   \n",
              "4         Lvl    AllPub  ...        0    NaN   NaN         NaN       0     12   \n",
              "\n",
              "  YrSold  SaleType  SaleCondition  SalePrice  \n",
              "0   2008        WD         Normal     208500  \n",
              "1   2007        WD         Normal     181500  \n",
              "2   2008        WD         Normal     223500  \n",
              "3   2006        WD        Abnorml     140000  \n",
              "4   2008        WD         Normal     250000  \n",
              "\n",
              "[5 rows x 81 columns]"
            ],
            "text/html": [
              "\n",
              "  <div id=\"df-03e00b4a-9a78-4a36-b1c3-ded08c32c87b\" class=\"colab-df-container\">\n",
              "    <div>\n",
              "<style scoped>\n",
              "    .dataframe tbody tr th:only-of-type {\n",
              "        vertical-align: middle;\n",
              "    }\n",
              "\n",
              "    .dataframe tbody tr th {\n",
              "        vertical-align: top;\n",
              "    }\n",
              "\n",
              "    .dataframe thead th {\n",
              "        text-align: right;\n",
              "    }\n",
              "</style>\n",
              "<table border=\"1\" class=\"dataframe\">\n",
              "  <thead>\n",
              "    <tr style=\"text-align: right;\">\n",
              "      <th></th>\n",
              "      <th>Id</th>\n",
              "      <th>MSSubClass</th>\n",
              "      <th>MSZoning</th>\n",
              "      <th>LotFrontage</th>\n",
              "      <th>LotArea</th>\n",
              "      <th>Street</th>\n",
              "      <th>Alley</th>\n",
              "      <th>LotShape</th>\n",
              "      <th>LandContour</th>\n",
              "      <th>Utilities</th>\n",
              "      <th>...</th>\n",
              "      <th>PoolArea</th>\n",
              "      <th>PoolQC</th>\n",
              "      <th>Fence</th>\n",
              "      <th>MiscFeature</th>\n",
              "      <th>MiscVal</th>\n",
              "      <th>MoSold</th>\n",
              "      <th>YrSold</th>\n",
              "      <th>SaleType</th>\n",
              "      <th>SaleCondition</th>\n",
              "      <th>SalePrice</th>\n",
              "    </tr>\n",
              "  </thead>\n",
              "  <tbody>\n",
              "    <tr>\n",
              "      <th>0</th>\n",
              "      <td>1</td>\n",
              "      <td>60</td>\n",
              "      <td>RL</td>\n",
              "      <td>65.0</td>\n",
              "      <td>8450</td>\n",
              "      <td>Pave</td>\n",
              "      <td>NaN</td>\n",
              "      <td>Reg</td>\n",
              "      <td>Lvl</td>\n",
              "      <td>AllPub</td>\n",
              "      <td>...</td>\n",
              "      <td>0</td>\n",
              "      <td>NaN</td>\n",
              "      <td>NaN</td>\n",
              "      <td>NaN</td>\n",
              "      <td>0</td>\n",
              "      <td>2</td>\n",
              "      <td>2008</td>\n",
              "      <td>WD</td>\n",
              "      <td>Normal</td>\n",
              "      <td>208500</td>\n",
              "    </tr>\n",
              "    <tr>\n",
              "      <th>1</th>\n",
              "      <td>2</td>\n",
              "      <td>20</td>\n",
              "      <td>RL</td>\n",
              "      <td>80.0</td>\n",
              "      <td>9600</td>\n",
              "      <td>Pave</td>\n",
              "      <td>NaN</td>\n",
              "      <td>Reg</td>\n",
              "      <td>Lvl</td>\n",
              "      <td>AllPub</td>\n",
              "      <td>...</td>\n",
              "      <td>0</td>\n",
              "      <td>NaN</td>\n",
              "      <td>NaN</td>\n",
              "      <td>NaN</td>\n",
              "      <td>0</td>\n",
              "      <td>5</td>\n",
              "      <td>2007</td>\n",
              "      <td>WD</td>\n",
              "      <td>Normal</td>\n",
              "      <td>181500</td>\n",
              "    </tr>\n",
              "    <tr>\n",
              "      <th>2</th>\n",
              "      <td>3</td>\n",
              "      <td>60</td>\n",
              "      <td>RL</td>\n",
              "      <td>68.0</td>\n",
              "      <td>11250</td>\n",
              "      <td>Pave</td>\n",
              "      <td>NaN</td>\n",
              "      <td>IR1</td>\n",
              "      <td>Lvl</td>\n",
              "      <td>AllPub</td>\n",
              "      <td>...</td>\n",
              "      <td>0</td>\n",
              "      <td>NaN</td>\n",
              "      <td>NaN</td>\n",
              "      <td>NaN</td>\n",
              "      <td>0</td>\n",
              "      <td>9</td>\n",
              "      <td>2008</td>\n",
              "      <td>WD</td>\n",
              "      <td>Normal</td>\n",
              "      <td>223500</td>\n",
              "    </tr>\n",
              "    <tr>\n",
              "      <th>3</th>\n",
              "      <td>4</td>\n",
              "      <td>70</td>\n",
              "      <td>RL</td>\n",
              "      <td>60.0</td>\n",
              "      <td>9550</td>\n",
              "      <td>Pave</td>\n",
              "      <td>NaN</td>\n",
              "      <td>IR1</td>\n",
              "      <td>Lvl</td>\n",
              "      <td>AllPub</td>\n",
              "      <td>...</td>\n",
              "      <td>0</td>\n",
              "      <td>NaN</td>\n",
              "      <td>NaN</td>\n",
              "      <td>NaN</td>\n",
              "      <td>0</td>\n",
              "      <td>2</td>\n",
              "      <td>2006</td>\n",
              "      <td>WD</td>\n",
              "      <td>Abnorml</td>\n",
              "      <td>140000</td>\n",
              "    </tr>\n",
              "    <tr>\n",
              "      <th>4</th>\n",
              "      <td>5</td>\n",
              "      <td>60</td>\n",
              "      <td>RL</td>\n",
              "      <td>84.0</td>\n",
              "      <td>14260</td>\n",
              "      <td>Pave</td>\n",
              "      <td>NaN</td>\n",
              "      <td>IR1</td>\n",
              "      <td>Lvl</td>\n",
              "      <td>AllPub</td>\n",
              "      <td>...</td>\n",
              "      <td>0</td>\n",
              "      <td>NaN</td>\n",
              "      <td>NaN</td>\n",
              "      <td>NaN</td>\n",
              "      <td>0</td>\n",
              "      <td>12</td>\n",
              "      <td>2008</td>\n",
              "      <td>WD</td>\n",
              "      <td>Normal</td>\n",
              "      <td>250000</td>\n",
              "    </tr>\n",
              "  </tbody>\n",
              "</table>\n",
              "<p>5 rows × 81 columns</p>\n",
              "</div>\n",
              "    <div class=\"colab-df-buttons\">\n",
              "\n",
              "  <div class=\"colab-df-container\">\n",
              "    <button class=\"colab-df-convert\" onclick=\"convertToInteractive('df-03e00b4a-9a78-4a36-b1c3-ded08c32c87b')\"\n",
              "            title=\"Convert this dataframe to an interactive table.\"\n",
              "            style=\"display:none;\">\n",
              "\n",
              "  <svg xmlns=\"http://www.w3.org/2000/svg\" height=\"24px\" viewBox=\"0 -960 960 960\">\n",
              "    <path d=\"M120-120v-720h720v720H120Zm60-500h600v-160H180v160Zm220 220h160v-160H400v160Zm0 220h160v-160H400v160ZM180-400h160v-160H180v160Zm440 0h160v-160H620v160ZM180-180h160v-160H180v160Zm440 0h160v-160H620v160Z\"/>\n",
              "  </svg>\n",
              "    </button>\n",
              "\n",
              "  <style>\n",
              "    .colab-df-container {\n",
              "      display:flex;\n",
              "      gap: 12px;\n",
              "    }\n",
              "\n",
              "    .colab-df-convert {\n",
              "      background-color: #E8F0FE;\n",
              "      border: none;\n",
              "      border-radius: 50%;\n",
              "      cursor: pointer;\n",
              "      display: none;\n",
              "      fill: #1967D2;\n",
              "      height: 32px;\n",
              "      padding: 0 0 0 0;\n",
              "      width: 32px;\n",
              "    }\n",
              "\n",
              "    .colab-df-convert:hover {\n",
              "      background-color: #E2EBFA;\n",
              "      box-shadow: 0px 1px 2px rgba(60, 64, 67, 0.3), 0px 1px 3px 1px rgba(60, 64, 67, 0.15);\n",
              "      fill: #174EA6;\n",
              "    }\n",
              "\n",
              "    .colab-df-buttons div {\n",
              "      margin-bottom: 4px;\n",
              "    }\n",
              "\n",
              "    [theme=dark] .colab-df-convert {\n",
              "      background-color: #3B4455;\n",
              "      fill: #D2E3FC;\n",
              "    }\n",
              "\n",
              "    [theme=dark] .colab-df-convert:hover {\n",
              "      background-color: #434B5C;\n",
              "      box-shadow: 0px 1px 3px 1px rgba(0, 0, 0, 0.15);\n",
              "      filter: drop-shadow(0px 1px 2px rgba(0, 0, 0, 0.3));\n",
              "      fill: #FFFFFF;\n",
              "    }\n",
              "  </style>\n",
              "\n",
              "    <script>\n",
              "      const buttonEl =\n",
              "        document.querySelector('#df-03e00b4a-9a78-4a36-b1c3-ded08c32c87b button.colab-df-convert');\n",
              "      buttonEl.style.display =\n",
              "        google.colab.kernel.accessAllowed ? 'block' : 'none';\n",
              "\n",
              "      async function convertToInteractive(key) {\n",
              "        const element = document.querySelector('#df-03e00b4a-9a78-4a36-b1c3-ded08c32c87b');\n",
              "        const dataTable =\n",
              "          await google.colab.kernel.invokeFunction('convertToInteractive',\n",
              "                                                    [key], {});\n",
              "        if (!dataTable) return;\n",
              "\n",
              "        const docLinkHtml = 'Like what you see? Visit the ' +\n",
              "          '<a target=\"_blank\" href=https://colab.research.google.com/notebooks/data_table.ipynb>data table notebook</a>'\n",
              "          + ' to learn more about interactive tables.';\n",
              "        element.innerHTML = '';\n",
              "        dataTable['output_type'] = 'display_data';\n",
              "        await google.colab.output.renderOutput(dataTable, element);\n",
              "        const docLink = document.createElement('div');\n",
              "        docLink.innerHTML = docLinkHtml;\n",
              "        element.appendChild(docLink);\n",
              "      }\n",
              "    </script>\n",
              "  </div>\n",
              "\n",
              "\n",
              "<div id=\"df-7456907a-6286-42ed-8a05-bdff4e9289ff\">\n",
              "  <button class=\"colab-df-quickchart\" onclick=\"quickchart('df-7456907a-6286-42ed-8a05-bdff4e9289ff')\"\n",
              "            title=\"Suggest charts\"\n",
              "            style=\"display:none;\">\n",
              "\n",
              "<svg xmlns=\"http://www.w3.org/2000/svg\" height=\"24px\"viewBox=\"0 0 24 24\"\n",
              "     width=\"24px\">\n",
              "    <g>\n",
              "        <path d=\"M19 3H5c-1.1 0-2 .9-2 2v14c0 1.1.9 2 2 2h14c1.1 0 2-.9 2-2V5c0-1.1-.9-2-2-2zM9 17H7v-7h2v7zm4 0h-2V7h2v10zm4 0h-2v-4h2v4z\"/>\n",
              "    </g>\n",
              "</svg>\n",
              "  </button>\n",
              "\n",
              "<style>\n",
              "  .colab-df-quickchart {\n",
              "      --bg-color: #E8F0FE;\n",
              "      --fill-color: #1967D2;\n",
              "      --hover-bg-color: #E2EBFA;\n",
              "      --hover-fill-color: #174EA6;\n",
              "      --disabled-fill-color: #AAA;\n",
              "      --disabled-bg-color: #DDD;\n",
              "  }\n",
              "\n",
              "  [theme=dark] .colab-df-quickchart {\n",
              "      --bg-color: #3B4455;\n",
              "      --fill-color: #D2E3FC;\n",
              "      --hover-bg-color: #434B5C;\n",
              "      --hover-fill-color: #FFFFFF;\n",
              "      --disabled-bg-color: #3B4455;\n",
              "      --disabled-fill-color: #666;\n",
              "  }\n",
              "\n",
              "  .colab-df-quickchart {\n",
              "    background-color: var(--bg-color);\n",
              "    border: none;\n",
              "    border-radius: 50%;\n",
              "    cursor: pointer;\n",
              "    display: none;\n",
              "    fill: var(--fill-color);\n",
              "    height: 32px;\n",
              "    padding: 0;\n",
              "    width: 32px;\n",
              "  }\n",
              "\n",
              "  .colab-df-quickchart:hover {\n",
              "    background-color: var(--hover-bg-color);\n",
              "    box-shadow: 0 1px 2px rgba(60, 64, 67, 0.3), 0 1px 3px 1px rgba(60, 64, 67, 0.15);\n",
              "    fill: var(--button-hover-fill-color);\n",
              "  }\n",
              "\n",
              "  .colab-df-quickchart-complete:disabled,\n",
              "  .colab-df-quickchart-complete:disabled:hover {\n",
              "    background-color: var(--disabled-bg-color);\n",
              "    fill: var(--disabled-fill-color);\n",
              "    box-shadow: none;\n",
              "  }\n",
              "\n",
              "  .colab-df-spinner {\n",
              "    border: 2px solid var(--fill-color);\n",
              "    border-color: transparent;\n",
              "    border-bottom-color: var(--fill-color);\n",
              "    animation:\n",
              "      spin 1s steps(1) infinite;\n",
              "  }\n",
              "\n",
              "  @keyframes spin {\n",
              "    0% {\n",
              "      border-color: transparent;\n",
              "      border-bottom-color: var(--fill-color);\n",
              "      border-left-color: var(--fill-color);\n",
              "    }\n",
              "    20% {\n",
              "      border-color: transparent;\n",
              "      border-left-color: var(--fill-color);\n",
              "      border-top-color: var(--fill-color);\n",
              "    }\n",
              "    30% {\n",
              "      border-color: transparent;\n",
              "      border-left-color: var(--fill-color);\n",
              "      border-top-color: var(--fill-color);\n",
              "      border-right-color: var(--fill-color);\n",
              "    }\n",
              "    40% {\n",
              "      border-color: transparent;\n",
              "      border-right-color: var(--fill-color);\n",
              "      border-top-color: var(--fill-color);\n",
              "    }\n",
              "    60% {\n",
              "      border-color: transparent;\n",
              "      border-right-color: var(--fill-color);\n",
              "    }\n",
              "    80% {\n",
              "      border-color: transparent;\n",
              "      border-right-color: var(--fill-color);\n",
              "      border-bottom-color: var(--fill-color);\n",
              "    }\n",
              "    90% {\n",
              "      border-color: transparent;\n",
              "      border-bottom-color: var(--fill-color);\n",
              "    }\n",
              "  }\n",
              "</style>\n",
              "\n",
              "  <script>\n",
              "    async function quickchart(key) {\n",
              "      const quickchartButtonEl =\n",
              "        document.querySelector('#' + key + ' button');\n",
              "      quickchartButtonEl.disabled = true;  // To prevent multiple clicks.\n",
              "      quickchartButtonEl.classList.add('colab-df-spinner');\n",
              "      try {\n",
              "        const charts = await google.colab.kernel.invokeFunction(\n",
              "            'suggestCharts', [key], {});\n",
              "      } catch (error) {\n",
              "        console.error('Error during call to suggestCharts:', error);\n",
              "      }\n",
              "      quickchartButtonEl.classList.remove('colab-df-spinner');\n",
              "      quickchartButtonEl.classList.add('colab-df-quickchart-complete');\n",
              "    }\n",
              "    (() => {\n",
              "      let quickchartButtonEl =\n",
              "        document.querySelector('#df-7456907a-6286-42ed-8a05-bdff4e9289ff button');\n",
              "      quickchartButtonEl.style.display =\n",
              "        google.colab.kernel.accessAllowed ? 'block' : 'none';\n",
              "    })();\n",
              "  </script>\n",
              "</div>\n",
              "\n",
              "    </div>\n",
              "  </div>\n"
            ],
            "application/vnd.google.colaboratory.intrinsic+json": {
              "type": "dataframe",
              "variable_name": "train"
            }
          },
          "metadata": {},
          "execution_count": 136
        }
      ]
    },
    {
      "cell_type": "code",
      "source": [
        "train.info()"
      ],
      "metadata": {
        "colab": {
          "base_uri": "https://localhost:8080/"
        },
        "id": "7Er_InIqOgnN",
        "outputId": "38040515-859a-46c1-a39a-a148c01e595b"
      },
      "execution_count": 137,
      "outputs": [
        {
          "output_type": "stream",
          "name": "stdout",
          "text": [
            "<class 'pandas.core.frame.DataFrame'>\n",
            "RangeIndex: 1460 entries, 0 to 1459\n",
            "Data columns (total 81 columns):\n",
            " #   Column         Non-Null Count  Dtype  \n",
            "---  ------         --------------  -----  \n",
            " 0   Id             1460 non-null   int64  \n",
            " 1   MSSubClass     1460 non-null   int64  \n",
            " 2   MSZoning       1460 non-null   object \n",
            " 3   LotFrontage    1201 non-null   float64\n",
            " 4   LotArea        1460 non-null   int64  \n",
            " 5   Street         1460 non-null   object \n",
            " 6   Alley          91 non-null     object \n",
            " 7   LotShape       1460 non-null   object \n",
            " 8   LandContour    1460 non-null   object \n",
            " 9   Utilities      1460 non-null   object \n",
            " 10  LotConfig      1460 non-null   object \n",
            " 11  LandSlope      1460 non-null   object \n",
            " 12  Neighborhood   1460 non-null   object \n",
            " 13  Condition1     1460 non-null   object \n",
            " 14  Condition2     1460 non-null   object \n",
            " 15  BldgType       1460 non-null   object \n",
            " 16  HouseStyle     1460 non-null   object \n",
            " 17  OverallQual    1460 non-null   int64  \n",
            " 18  OverallCond    1460 non-null   int64  \n",
            " 19  YearBuilt      1460 non-null   int64  \n",
            " 20  YearRemodAdd   1460 non-null   int64  \n",
            " 21  RoofStyle      1460 non-null   object \n",
            " 22  RoofMatl       1460 non-null   object \n",
            " 23  Exterior1st    1460 non-null   object \n",
            " 24  Exterior2nd    1460 non-null   object \n",
            " 25  MasVnrType     588 non-null    object \n",
            " 26  MasVnrArea     1452 non-null   float64\n",
            " 27  ExterQual      1460 non-null   object \n",
            " 28  ExterCond      1460 non-null   object \n",
            " 29  Foundation     1460 non-null   object \n",
            " 30  BsmtQual       1423 non-null   object \n",
            " 31  BsmtCond       1423 non-null   object \n",
            " 32  BsmtExposure   1422 non-null   object \n",
            " 33  BsmtFinType1   1423 non-null   object \n",
            " 34  BsmtFinSF1     1460 non-null   int64  \n",
            " 35  BsmtFinType2   1422 non-null   object \n",
            " 36  BsmtFinSF2     1460 non-null   int64  \n",
            " 37  BsmtUnfSF      1460 non-null   int64  \n",
            " 38  TotalBsmtSF    1460 non-null   int64  \n",
            " 39  Heating        1460 non-null   object \n",
            " 40  HeatingQC      1460 non-null   object \n",
            " 41  CentralAir     1460 non-null   object \n",
            " 42  Electrical     1459 non-null   object \n",
            " 43  1stFlrSF       1460 non-null   int64  \n",
            " 44  2ndFlrSF       1460 non-null   int64  \n",
            " 45  LowQualFinSF   1460 non-null   int64  \n",
            " 46  GrLivArea      1460 non-null   int64  \n",
            " 47  BsmtFullBath   1460 non-null   int64  \n",
            " 48  BsmtHalfBath   1460 non-null   int64  \n",
            " 49  FullBath       1460 non-null   int64  \n",
            " 50  HalfBath       1460 non-null   int64  \n",
            " 51  BedroomAbvGr   1460 non-null   int64  \n",
            " 52  KitchenAbvGr   1460 non-null   int64  \n",
            " 53  KitchenQual    1460 non-null   object \n",
            " 54  TotRmsAbvGrd   1460 non-null   int64  \n",
            " 55  Functional     1460 non-null   object \n",
            " 56  Fireplaces     1460 non-null   int64  \n",
            " 57  FireplaceQu    770 non-null    object \n",
            " 58  GarageType     1379 non-null   object \n",
            " 59  GarageYrBlt    1379 non-null   float64\n",
            " 60  GarageFinish   1379 non-null   object \n",
            " 61  GarageCars     1460 non-null   int64  \n",
            " 62  GarageArea     1460 non-null   int64  \n",
            " 63  GarageQual     1379 non-null   object \n",
            " 64  GarageCond     1379 non-null   object \n",
            " 65  PavedDrive     1460 non-null   object \n",
            " 66  WoodDeckSF     1460 non-null   int64  \n",
            " 67  OpenPorchSF    1460 non-null   int64  \n",
            " 68  EnclosedPorch  1460 non-null   int64  \n",
            " 69  3SsnPorch      1460 non-null   int64  \n",
            " 70  ScreenPorch    1460 non-null   int64  \n",
            " 71  PoolArea       1460 non-null   int64  \n",
            " 72  PoolQC         7 non-null      object \n",
            " 73  Fence          281 non-null    object \n",
            " 74  MiscFeature    54 non-null     object \n",
            " 75  MiscVal        1460 non-null   int64  \n",
            " 76  MoSold         1460 non-null   int64  \n",
            " 77  YrSold         1460 non-null   int64  \n",
            " 78  SaleType       1460 non-null   object \n",
            " 79  SaleCondition  1460 non-null   object \n",
            " 80  SalePrice      1460 non-null   int64  \n",
            "dtypes: float64(3), int64(35), object(43)\n",
            "memory usage: 924.0+ KB\n"
          ]
        }
      ]
    },
    {
      "cell_type": "markdown",
      "source": [
        "#Data Cleaning"
      ],
      "metadata": {
        "id": "T0k3055OMOCt"
      }
    },
    {
      "cell_type": "markdown",
      "source": [
        "###Filling Null Values"
      ],
      "metadata": {
        "id": "tJZtK-Ar9UTR"
      }
    },
    {
      "cell_type": "code",
      "source": [
        "X_train_no = X_train.select_dtypes(exclude=['object'])\n",
        "X_train_no.info()\n",
        "X_valid_no = X_valid.select_dtypes(exclude=['object'])\n",
        "X_valid_no.info()\n",
        "test_no = test.select_dtypes(exclude=['object'])"
      ],
      "metadata": {
        "id": "Fiv1PZspRfRK",
        "colab": {
          "base_uri": "https://localhost:8080/"
        },
        "outputId": "34f21796-ad60-4a6e-ff63-4c9c6e704a5c"
      },
      "execution_count": 138,
      "outputs": [
        {
          "output_type": "stream",
          "name": "stdout",
          "text": [
            "<class 'pandas.core.frame.DataFrame'>\n",
            "Index: 1095 entries, 78 to 179\n",
            "Data columns (total 37 columns):\n",
            " #   Column         Non-Null Count  Dtype  \n",
            "---  ------         --------------  -----  \n",
            " 0   Id             1095 non-null   int64  \n",
            " 1   MSSubClass     1095 non-null   int64  \n",
            " 2   LotFrontage    895 non-null    float64\n",
            " 3   LotArea        1095 non-null   int64  \n",
            " 4   OverallQual    1095 non-null   int64  \n",
            " 5   OverallCond    1095 non-null   int64  \n",
            " 6   YearBuilt      1095 non-null   int64  \n",
            " 7   YearRemodAdd   1095 non-null   int64  \n",
            " 8   MasVnrArea     1089 non-null   float64\n",
            " 9   BsmtFinSF1     1095 non-null   int64  \n",
            " 10  BsmtFinSF2     1095 non-null   int64  \n",
            " 11  BsmtUnfSF      1095 non-null   int64  \n",
            " 12  TotalBsmtSF    1095 non-null   int64  \n",
            " 13  1stFlrSF       1095 non-null   int64  \n",
            " 14  2ndFlrSF       1095 non-null   int64  \n",
            " 15  LowQualFinSF   1095 non-null   int64  \n",
            " 16  GrLivArea      1095 non-null   int64  \n",
            " 17  BsmtFullBath   1095 non-null   int64  \n",
            " 18  BsmtHalfBath   1095 non-null   int64  \n",
            " 19  FullBath       1095 non-null   int64  \n",
            " 20  HalfBath       1095 non-null   int64  \n",
            " 21  BedroomAbvGr   1095 non-null   int64  \n",
            " 22  KitchenAbvGr   1095 non-null   int64  \n",
            " 23  TotRmsAbvGrd   1095 non-null   int64  \n",
            " 24  Fireplaces     1095 non-null   int64  \n",
            " 25  GarageYrBlt    1025 non-null   float64\n",
            " 26  GarageCars     1095 non-null   int64  \n",
            " 27  GarageArea     1095 non-null   int64  \n",
            " 28  WoodDeckSF     1095 non-null   int64  \n",
            " 29  OpenPorchSF    1095 non-null   int64  \n",
            " 30  EnclosedPorch  1095 non-null   int64  \n",
            " 31  3SsnPorch      1095 non-null   int64  \n",
            " 32  ScreenPorch    1095 non-null   int64  \n",
            " 33  PoolArea       1095 non-null   int64  \n",
            " 34  MiscVal        1095 non-null   int64  \n",
            " 35  MoSold         1095 non-null   int64  \n",
            " 36  YrSold         1095 non-null   int64  \n",
            "dtypes: float64(3), int64(34)\n",
            "memory usage: 325.1 KB\n",
            "<class 'pandas.core.frame.DataFrame'>\n",
            "Index: 365 entries, 807 to 1292\n",
            "Data columns (total 37 columns):\n",
            " #   Column         Non-Null Count  Dtype  \n",
            "---  ------         --------------  -----  \n",
            " 0   Id             365 non-null    int64  \n",
            " 1   MSSubClass     365 non-null    int64  \n",
            " 2   LotFrontage    306 non-null    float64\n",
            " 3   LotArea        365 non-null    int64  \n",
            " 4   OverallQual    365 non-null    int64  \n",
            " 5   OverallCond    365 non-null    int64  \n",
            " 6   YearBuilt      365 non-null    int64  \n",
            " 7   YearRemodAdd   365 non-null    int64  \n",
            " 8   MasVnrArea     363 non-null    float64\n",
            " 9   BsmtFinSF1     365 non-null    int64  \n",
            " 10  BsmtFinSF2     365 non-null    int64  \n",
            " 11  BsmtUnfSF      365 non-null    int64  \n",
            " 12  TotalBsmtSF    365 non-null    int64  \n",
            " 13  1stFlrSF       365 non-null    int64  \n",
            " 14  2ndFlrSF       365 non-null    int64  \n",
            " 15  LowQualFinSF   365 non-null    int64  \n",
            " 16  GrLivArea      365 non-null    int64  \n",
            " 17  BsmtFullBath   365 non-null    int64  \n",
            " 18  BsmtHalfBath   365 non-null    int64  \n",
            " 19  FullBath       365 non-null    int64  \n",
            " 20  HalfBath       365 non-null    int64  \n",
            " 21  BedroomAbvGr   365 non-null    int64  \n",
            " 22  KitchenAbvGr   365 non-null    int64  \n",
            " 23  TotRmsAbvGrd   365 non-null    int64  \n",
            " 24  Fireplaces     365 non-null    int64  \n",
            " 25  GarageYrBlt    354 non-null    float64\n",
            " 26  GarageCars     365 non-null    int64  \n",
            " 27  GarageArea     365 non-null    int64  \n",
            " 28  WoodDeckSF     365 non-null    int64  \n",
            " 29  OpenPorchSF    365 non-null    int64  \n",
            " 30  EnclosedPorch  365 non-null    int64  \n",
            " 31  3SsnPorch      365 non-null    int64  \n",
            " 32  ScreenPorch    365 non-null    int64  \n",
            " 33  PoolArea       365 non-null    int64  \n",
            " 34  MiscVal        365 non-null    int64  \n",
            " 35  MoSold         365 non-null    int64  \n",
            " 36  YrSold         365 non-null    int64  \n",
            "dtypes: float64(3), int64(34)\n",
            "memory usage: 108.4 KB\n"
          ]
        }
      ]
    },
    {
      "cell_type": "code",
      "source": [
        "from sklearn.impute import SimpleImputer\n",
        "\n",
        "# Imputation\n",
        "my_imputer = SimpleImputer()\n",
        "imputed_X_train = pd.DataFrame(my_imputer.fit_transform(X_train_no))\n",
        "imputed_X_valid = pd.DataFrame(my_imputer.transform(X_valid_no))\n",
        "\n",
        "# Imputation removed column names; put them back\n",
        "imputed_X_train.columns = X_train_no.columns\n",
        "imputed_X_valid.columns = X_valid_no.columns\n",
        "\n",
        "imputed_X_train.info()"
      ],
      "metadata": {
        "colab": {
          "base_uri": "https://localhost:8080/"
        },
        "id": "vpKEHCuzwcOi",
        "outputId": "130f6a7c-a7de-4e84-8446-3aedcc9a00a1"
      },
      "execution_count": 139,
      "outputs": [
        {
          "output_type": "stream",
          "name": "stdout",
          "text": [
            "<class 'pandas.core.frame.DataFrame'>\n",
            "RangeIndex: 1095 entries, 0 to 1094\n",
            "Data columns (total 37 columns):\n",
            " #   Column         Non-Null Count  Dtype  \n",
            "---  ------         --------------  -----  \n",
            " 0   Id             1095 non-null   float64\n",
            " 1   MSSubClass     1095 non-null   float64\n",
            " 2   LotFrontage    1095 non-null   float64\n",
            " 3   LotArea        1095 non-null   float64\n",
            " 4   OverallQual    1095 non-null   float64\n",
            " 5   OverallCond    1095 non-null   float64\n",
            " 6   YearBuilt      1095 non-null   float64\n",
            " 7   YearRemodAdd   1095 non-null   float64\n",
            " 8   MasVnrArea     1095 non-null   float64\n",
            " 9   BsmtFinSF1     1095 non-null   float64\n",
            " 10  BsmtFinSF2     1095 non-null   float64\n",
            " 11  BsmtUnfSF      1095 non-null   float64\n",
            " 12  TotalBsmtSF    1095 non-null   float64\n",
            " 13  1stFlrSF       1095 non-null   float64\n",
            " 14  2ndFlrSF       1095 non-null   float64\n",
            " 15  LowQualFinSF   1095 non-null   float64\n",
            " 16  GrLivArea      1095 non-null   float64\n",
            " 17  BsmtFullBath   1095 non-null   float64\n",
            " 18  BsmtHalfBath   1095 non-null   float64\n",
            " 19  FullBath       1095 non-null   float64\n",
            " 20  HalfBath       1095 non-null   float64\n",
            " 21  BedroomAbvGr   1095 non-null   float64\n",
            " 22  KitchenAbvGr   1095 non-null   float64\n",
            " 23  TotRmsAbvGrd   1095 non-null   float64\n",
            " 24  Fireplaces     1095 non-null   float64\n",
            " 25  GarageYrBlt    1095 non-null   float64\n",
            " 26  GarageCars     1095 non-null   float64\n",
            " 27  GarageArea     1095 non-null   float64\n",
            " 28  WoodDeckSF     1095 non-null   float64\n",
            " 29  OpenPorchSF    1095 non-null   float64\n",
            " 30  EnclosedPorch  1095 non-null   float64\n",
            " 31  3SsnPorch      1095 non-null   float64\n",
            " 32  ScreenPorch    1095 non-null   float64\n",
            " 33  PoolArea       1095 non-null   float64\n",
            " 34  MiscVal        1095 non-null   float64\n",
            " 35  MoSold         1095 non-null   float64\n",
            " 36  YrSold         1095 non-null   float64\n",
            "dtypes: float64(37)\n",
            "memory usage: 316.6 KB\n"
          ]
        }
      ]
    },
    {
      "cell_type": "code",
      "source": [
        "X_train_cat = X_train.select_dtypes(include=['object'])\n",
        "X_train_cat.info()\n",
        "X_valid_cat = X_valid.select_dtypes(include=['object'])\n",
        "X_valid_cat.info()"
      ],
      "metadata": {
        "colab": {
          "base_uri": "https://localhost:8080/"
        },
        "id": "Wi9QAuD7GhWK",
        "outputId": "9b023a68-4eba-4cb7-f91f-542f8f196583"
      },
      "execution_count": 140,
      "outputs": [
        {
          "output_type": "stream",
          "name": "stdout",
          "text": [
            "<class 'pandas.core.frame.DataFrame'>\n",
            "Index: 1095 entries, 78 to 179\n",
            "Data columns (total 43 columns):\n",
            " #   Column         Non-Null Count  Dtype \n",
            "---  ------         --------------  ----- \n",
            " 0   MSZoning       1095 non-null   object\n",
            " 1   Street         1095 non-null   object\n",
            " 2   Alley          68 non-null     object\n",
            " 3   LotShape       1095 non-null   object\n",
            " 4   LandContour    1095 non-null   object\n",
            " 5   Utilities      1095 non-null   object\n",
            " 6   LotConfig      1095 non-null   object\n",
            " 7   LandSlope      1095 non-null   object\n",
            " 8   Neighborhood   1095 non-null   object\n",
            " 9   Condition1     1095 non-null   object\n",
            " 10  Condition2     1095 non-null   object\n",
            " 11  BldgType       1095 non-null   object\n",
            " 12  HouseStyle     1095 non-null   object\n",
            " 13  RoofStyle      1095 non-null   object\n",
            " 14  RoofMatl       1095 non-null   object\n",
            " 15  Exterior1st    1095 non-null   object\n",
            " 16  Exterior2nd    1095 non-null   object\n",
            " 17  MasVnrType     436 non-null    object\n",
            " 18  ExterQual      1095 non-null   object\n",
            " 19  ExterCond      1095 non-null   object\n",
            " 20  Foundation     1095 non-null   object\n",
            " 21  BsmtQual       1065 non-null   object\n",
            " 22  BsmtCond       1065 non-null   object\n",
            " 23  BsmtExposure   1064 non-null   object\n",
            " 24  BsmtFinType1   1065 non-null   object\n",
            " 25  BsmtFinType2   1064 non-null   object\n",
            " 26  Heating        1095 non-null   object\n",
            " 27  HeatingQC      1095 non-null   object\n",
            " 28  CentralAir     1095 non-null   object\n",
            " 29  Electrical     1094 non-null   object\n",
            " 30  KitchenQual    1095 non-null   object\n",
            " 31  Functional     1095 non-null   object\n",
            " 32  FireplaceQu    564 non-null    object\n",
            " 33  GarageType     1025 non-null   object\n",
            " 34  GarageFinish   1025 non-null   object\n",
            " 35  GarageQual     1025 non-null   object\n",
            " 36  GarageCond     1025 non-null   object\n",
            " 37  PavedDrive     1095 non-null   object\n",
            " 38  PoolQC         6 non-null      object\n",
            " 39  Fence          213 non-null    object\n",
            " 40  MiscFeature    41 non-null     object\n",
            " 41  SaleType       1095 non-null   object\n",
            " 42  SaleCondition  1095 non-null   object\n",
            "dtypes: object(43)\n",
            "memory usage: 376.4+ KB\n",
            "<class 'pandas.core.frame.DataFrame'>\n",
            "Index: 365 entries, 807 to 1292\n",
            "Data columns (total 43 columns):\n",
            " #   Column         Non-Null Count  Dtype \n",
            "---  ------         --------------  ----- \n",
            " 0   MSZoning       365 non-null    object\n",
            " 1   Street         365 non-null    object\n",
            " 2   Alley          23 non-null     object\n",
            " 3   LotShape       365 non-null    object\n",
            " 4   LandContour    365 non-null    object\n",
            " 5   Utilities      365 non-null    object\n",
            " 6   LotConfig      365 non-null    object\n",
            " 7   LandSlope      365 non-null    object\n",
            " 8   Neighborhood   365 non-null    object\n",
            " 9   Condition1     365 non-null    object\n",
            " 10  Condition2     365 non-null    object\n",
            " 11  BldgType       365 non-null    object\n",
            " 12  HouseStyle     365 non-null    object\n",
            " 13  RoofStyle      365 non-null    object\n",
            " 14  RoofMatl       365 non-null    object\n",
            " 15  Exterior1st    365 non-null    object\n",
            " 16  Exterior2nd    365 non-null    object\n",
            " 17  MasVnrType     152 non-null    object\n",
            " 18  ExterQual      365 non-null    object\n",
            " 19  ExterCond      365 non-null    object\n",
            " 20  Foundation     365 non-null    object\n",
            " 21  BsmtQual       358 non-null    object\n",
            " 22  BsmtCond       358 non-null    object\n",
            " 23  BsmtExposure   358 non-null    object\n",
            " 24  BsmtFinType1   358 non-null    object\n",
            " 25  BsmtFinType2   358 non-null    object\n",
            " 26  Heating        365 non-null    object\n",
            " 27  HeatingQC      365 non-null    object\n",
            " 28  CentralAir     365 non-null    object\n",
            " 29  Electrical     365 non-null    object\n",
            " 30  KitchenQual    365 non-null    object\n",
            " 31  Functional     365 non-null    object\n",
            " 32  FireplaceQu    206 non-null    object\n",
            " 33  GarageType     354 non-null    object\n",
            " 34  GarageFinish   354 non-null    object\n",
            " 35  GarageQual     354 non-null    object\n",
            " 36  GarageCond     354 non-null    object\n",
            " 37  PavedDrive     365 non-null    object\n",
            " 38  PoolQC         1 non-null      object\n",
            " 39  Fence          68 non-null     object\n",
            " 40  MiscFeature    13 non-null     object\n",
            " 41  SaleType       365 non-null    object\n",
            " 42  SaleCondition  365 non-null    object\n",
            "dtypes: object(43)\n",
            "memory usage: 125.5+ KB\n"
          ]
        }
      ]
    },
    {
      "cell_type": "code",
      "source": [
        "X_train_cat=X_train_cat.fillna(\"MISSING\")\n",
        "X_valid_cat=X_valid_cat.fillna(\"MISSING\")\n",
        "imputed_X_train.shape"
      ],
      "metadata": {
        "colab": {
          "base_uri": "https://localhost:8080/"
        },
        "outputId": "3747011c-9d8a-4d4b-b39d-f1cad288ddcc",
        "id": "lDfzC8evB6PL",
        "collapsed": true
      },
      "execution_count": 141,
      "outputs": [
        {
          "output_type": "execute_result",
          "data": {
            "text/plain": [
              "(1095, 37)"
            ]
          },
          "metadata": {},
          "execution_count": 141
        }
      ]
    },
    {
      "cell_type": "code",
      "source": [
        "X_train_cat.isnull().sum()"
      ],
      "metadata": {
        "colab": {
          "base_uri": "https://localhost:8080/"
        },
        "id": "MyCp7dTFG7Im",
        "outputId": "c57ea31e-81b9-4d37-e68f-c36c12c9f5e0"
      },
      "execution_count": 142,
      "outputs": [
        {
          "output_type": "execute_result",
          "data": {
            "text/plain": [
              "MSZoning         0\n",
              "Street           0\n",
              "Alley            0\n",
              "LotShape         0\n",
              "LandContour      0\n",
              "Utilities        0\n",
              "LotConfig        0\n",
              "LandSlope        0\n",
              "Neighborhood     0\n",
              "Condition1       0\n",
              "Condition2       0\n",
              "BldgType         0\n",
              "HouseStyle       0\n",
              "RoofStyle        0\n",
              "RoofMatl         0\n",
              "Exterior1st      0\n",
              "Exterior2nd      0\n",
              "MasVnrType       0\n",
              "ExterQual        0\n",
              "ExterCond        0\n",
              "Foundation       0\n",
              "BsmtQual         0\n",
              "BsmtCond         0\n",
              "BsmtExposure     0\n",
              "BsmtFinType1     0\n",
              "BsmtFinType2     0\n",
              "Heating          0\n",
              "HeatingQC        0\n",
              "CentralAir       0\n",
              "Electrical       0\n",
              "KitchenQual      0\n",
              "Functional       0\n",
              "FireplaceQu      0\n",
              "GarageType       0\n",
              "GarageFinish     0\n",
              "GarageQual       0\n",
              "GarageCond       0\n",
              "PavedDrive       0\n",
              "PoolQC           0\n",
              "Fence            0\n",
              "MiscFeature      0\n",
              "SaleType         0\n",
              "SaleCondition    0\n",
              "dtype: int64"
            ]
          },
          "metadata": {},
          "execution_count": 142
        }
      ]
    },
    {
      "cell_type": "markdown",
      "source": [
        "One Hot Encoding"
      ],
      "metadata": {
        "id": "UMb4eUyGbKdV"
      }
    },
    {
      "cell_type": "code",
      "source": [
        "from sklearn.preprocessing import OneHotEncoder\n",
        "\n",
        "# Apply one-hot encoder to each column with categorical data\n",
        "OH_encoder = OneHotEncoder(handle_unknown='ignore', sparse=False)\n",
        "OH_cols_train = pd.DataFrame(OH_encoder.fit_transform(X_train_cat))\n",
        "OH_cols_valid = pd.DataFrame(OH_encoder.transform(X_valid_cat))\n",
        "\n",
        "# One-hot encoding removed index; put it back\n",
        "OH_cols_train.index = X_train_cat.index\n",
        "OH_cols_valid.index = X_valid_cat.index\n",
        "\n",
        "# Add one-hot encoded columns to numerical features\n",
        "OH_X_train = pd.concat([imputed_X_train.reset_index(drop=True), OH_cols_train.reset_index(drop=True)], axis=1)\n",
        "OH_X_valid = pd.concat([imputed_X_valid.reset_index(drop=True), OH_cols_valid.reset_index(drop=True)], axis=1)\n",
        "\n",
        "# Ensure all columns have string type\n",
        "OH_X_train.columns = OH_X_train.columns.astype(str)\n",
        "OH_X_valid.columns = OH_X_valid.columns.astype(str)\n",
        "OH_X_train.shape,OH_X_valid.shape"
      ],
      "metadata": {
        "id": "c1QwuTP3I4Hp",
        "colab": {
          "base_uri": "https://localhost:8080/"
        },
        "outputId": "786c6692-5499-41ac-8ef7-2988061b81c1"
      },
      "execution_count": 143,
      "outputs": [
        {
          "output_type": "execute_result",
          "data": {
            "text/plain": [
              "((1095, 299), (365, 299))"
            ]
          },
          "metadata": {},
          "execution_count": 143
        }
      ]
    },
    {
      "cell_type": "code",
      "source": [
        "X_train = OH_X_train.copy()\n",
        "X_valid = OH_X_valid.copy()\n",
        "X_train.shape,X_valid.shape"
      ],
      "metadata": {
        "colab": {
          "base_uri": "https://localhost:8080/"
        },
        "id": "encelo-wYZBw",
        "outputId": "2b9c98c0-453c-4f97-9ca5-327cca5bbb84",
        "collapsed": true
      },
      "execution_count": 144,
      "outputs": [
        {
          "output_type": "execute_result",
          "data": {
            "text/plain": [
              "((1095, 299), (365, 299))"
            ]
          },
          "metadata": {},
          "execution_count": 144
        }
      ]
    },
    {
      "cell_type": "code",
      "source": [
        "X_train.info()"
      ],
      "metadata": {
        "colab": {
          "base_uri": "https://localhost:8080/"
        },
        "id": "n6DZxv6nLBHV",
        "outputId": "d132f628-fd44-4d6e-9ef5-c44429f07198"
      },
      "execution_count": 145,
      "outputs": [
        {
          "output_type": "stream",
          "name": "stdout",
          "text": [
            "<class 'pandas.core.frame.DataFrame'>\n",
            "RangeIndex: 1095 entries, 0 to 1094\n",
            "Columns: 299 entries, Id to 261\n",
            "dtypes: float64(299)\n",
            "memory usage: 2.5 MB\n"
          ]
        }
      ]
    },
    {
      "cell_type": "markdown",
      "source": [
        "# Building The Model And Checking the Accuracy"
      ],
      "metadata": {
        "id": "WOZrRzi0Mh_i"
      }
    },
    {
      "cell_type": "code",
      "source": [
        "from xgboost import XGBRegressor\n",
        "baseline_model = XGBRegressor(n_estimators=1000, learning_rate=0.05)\n",
        "baseline_model.fit(X_train, y_train,\n",
        "             eval_set=[(X_valid, y_valid)],\n",
        "             verbose=False)"
      ],
      "metadata": {
        "colab": {
          "base_uri": "https://localhost:8080/",
          "height": 248
        },
        "id": "wvG8wnvaMlj2",
        "outputId": "ee2dc558-e7d9-4926-fede-40e6a735c36c"
      },
      "execution_count": 243,
      "outputs": [
        {
          "output_type": "execute_result",
          "data": {
            "text/plain": [
              "XGBRegressor(base_score=None, booster=None, callbacks=None,\n",
              "             colsample_bylevel=None, colsample_bynode=None,\n",
              "             colsample_bytree=None, device=None, early_stopping_rounds=None,\n",
              "             enable_categorical=False, eval_metric=None, feature_types=None,\n",
              "             gamma=None, grow_policy=None, importance_type=None,\n",
              "             interaction_constraints=None, learning_rate=0.05, max_bin=None,\n",
              "             max_cat_threshold=None, max_cat_to_onehot=None,\n",
              "             max_delta_step=None, max_depth=None, max_leaves=None,\n",
              "             min_child_weight=None, missing=nan, monotone_constraints=None,\n",
              "             multi_strategy=None, n_estimators=1000, n_jobs=None,\n",
              "             num_parallel_tree=None, random_state=None, ...)"
            ],
            "text/html": [
              "<style>#sk-container-id-29 {color: black;background-color: white;}#sk-container-id-29 pre{padding: 0;}#sk-container-id-29 div.sk-toggleable {background-color: white;}#sk-container-id-29 label.sk-toggleable__label {cursor: pointer;display: block;width: 100%;margin-bottom: 0;padding: 0.3em;box-sizing: border-box;text-align: center;}#sk-container-id-29 label.sk-toggleable__label-arrow:before {content: \"▸\";float: left;margin-right: 0.25em;color: #696969;}#sk-container-id-29 label.sk-toggleable__label-arrow:hover:before {color: black;}#sk-container-id-29 div.sk-estimator:hover label.sk-toggleable__label-arrow:before {color: black;}#sk-container-id-29 div.sk-toggleable__content {max-height: 0;max-width: 0;overflow: hidden;text-align: left;background-color: #f0f8ff;}#sk-container-id-29 div.sk-toggleable__content pre {margin: 0.2em;color: black;border-radius: 0.25em;background-color: #f0f8ff;}#sk-container-id-29 input.sk-toggleable__control:checked~div.sk-toggleable__content {max-height: 200px;max-width: 100%;overflow: auto;}#sk-container-id-29 input.sk-toggleable__control:checked~label.sk-toggleable__label-arrow:before {content: \"▾\";}#sk-container-id-29 div.sk-estimator input.sk-toggleable__control:checked~label.sk-toggleable__label {background-color: #d4ebff;}#sk-container-id-29 div.sk-label input.sk-toggleable__control:checked~label.sk-toggleable__label {background-color: #d4ebff;}#sk-container-id-29 input.sk-hidden--visually {border: 0;clip: rect(1px 1px 1px 1px);clip: rect(1px, 1px, 1px, 1px);height: 1px;margin: -1px;overflow: hidden;padding: 0;position: absolute;width: 1px;}#sk-container-id-29 div.sk-estimator {font-family: monospace;background-color: #f0f8ff;border: 1px dotted black;border-radius: 0.25em;box-sizing: border-box;margin-bottom: 0.5em;}#sk-container-id-29 div.sk-estimator:hover {background-color: #d4ebff;}#sk-container-id-29 div.sk-parallel-item::after {content: \"\";width: 100%;border-bottom: 1px solid gray;flex-grow: 1;}#sk-container-id-29 div.sk-label:hover label.sk-toggleable__label {background-color: #d4ebff;}#sk-container-id-29 div.sk-serial::before {content: \"\";position: absolute;border-left: 1px solid gray;box-sizing: border-box;top: 0;bottom: 0;left: 50%;z-index: 0;}#sk-container-id-29 div.sk-serial {display: flex;flex-direction: column;align-items: center;background-color: white;padding-right: 0.2em;padding-left: 0.2em;position: relative;}#sk-container-id-29 div.sk-item {position: relative;z-index: 1;}#sk-container-id-29 div.sk-parallel {display: flex;align-items: stretch;justify-content: center;background-color: white;position: relative;}#sk-container-id-29 div.sk-item::before, #sk-container-id-29 div.sk-parallel-item::before {content: \"\";position: absolute;border-left: 1px solid gray;box-sizing: border-box;top: 0;bottom: 0;left: 50%;z-index: -1;}#sk-container-id-29 div.sk-parallel-item {display: flex;flex-direction: column;z-index: 1;position: relative;background-color: white;}#sk-container-id-29 div.sk-parallel-item:first-child::after {align-self: flex-end;width: 50%;}#sk-container-id-29 div.sk-parallel-item:last-child::after {align-self: flex-start;width: 50%;}#sk-container-id-29 div.sk-parallel-item:only-child::after {width: 0;}#sk-container-id-29 div.sk-dashed-wrapped {border: 1px dashed gray;margin: 0 0.4em 0.5em 0.4em;box-sizing: border-box;padding-bottom: 0.4em;background-color: white;}#sk-container-id-29 div.sk-label label {font-family: monospace;font-weight: bold;display: inline-block;line-height: 1.2em;}#sk-container-id-29 div.sk-label-container {text-align: center;}#sk-container-id-29 div.sk-container {/* jupyter's `normalize.less` sets `[hidden] { display: none; }` but bootstrap.min.css set `[hidden] { display: none !important; }` so we also need the `!important` here to be able to override the default hidden behavior on the sphinx rendered scikit-learn.org. See: https://github.com/scikit-learn/scikit-learn/issues/21755 */display: inline-block !important;position: relative;}#sk-container-id-29 div.sk-text-repr-fallback {display: none;}</style><div id=\"sk-container-id-29\" class=\"sk-top-container\"><div class=\"sk-text-repr-fallback\"><pre>XGBRegressor(base_score=None, booster=None, callbacks=None,\n",
              "             colsample_bylevel=None, colsample_bynode=None,\n",
              "             colsample_bytree=None, device=None, early_stopping_rounds=None,\n",
              "             enable_categorical=False, eval_metric=None, feature_types=None,\n",
              "             gamma=None, grow_policy=None, importance_type=None,\n",
              "             interaction_constraints=None, learning_rate=0.05, max_bin=None,\n",
              "             max_cat_threshold=None, max_cat_to_onehot=None,\n",
              "             max_delta_step=None, max_depth=None, max_leaves=None,\n",
              "             min_child_weight=None, missing=nan, monotone_constraints=None,\n",
              "             multi_strategy=None, n_estimators=1000, n_jobs=None,\n",
              "             num_parallel_tree=None, random_state=None, ...)</pre><b>In a Jupyter environment, please rerun this cell to show the HTML representation or trust the notebook. <br />On GitHub, the HTML representation is unable to render, please try loading this page with nbviewer.org.</b></div><div class=\"sk-container\" hidden><div class=\"sk-item\"><div class=\"sk-estimator sk-toggleable\"><input class=\"sk-toggleable__control sk-hidden--visually\" id=\"sk-estimator-id-29\" type=\"checkbox\" checked><label for=\"sk-estimator-id-29\" class=\"sk-toggleable__label sk-toggleable__label-arrow\">XGBRegressor</label><div class=\"sk-toggleable__content\"><pre>XGBRegressor(base_score=None, booster=None, callbacks=None,\n",
              "             colsample_bylevel=None, colsample_bynode=None,\n",
              "             colsample_bytree=None, device=None, early_stopping_rounds=None,\n",
              "             enable_categorical=False, eval_metric=None, feature_types=None,\n",
              "             gamma=None, grow_policy=None, importance_type=None,\n",
              "             interaction_constraints=None, learning_rate=0.05, max_bin=None,\n",
              "             max_cat_threshold=None, max_cat_to_onehot=None,\n",
              "             max_delta_step=None, max_depth=None, max_leaves=None,\n",
              "             min_child_weight=None, missing=nan, monotone_constraints=None,\n",
              "             multi_strategy=None, n_estimators=1000, n_jobs=None,\n",
              "             num_parallel_tree=None, random_state=None, ...)</pre></div></div></div></div></div>"
            ]
          },
          "metadata": {},
          "execution_count": 243
        }
      ]
    },
    {
      "cell_type": "code",
      "source": [
        "y_pred=baseline_model.predict(X_valid)"
      ],
      "metadata": {
        "id": "6FtXbShZi65I"
      },
      "execution_count": 244,
      "outputs": []
    },
    {
      "cell_type": "code",
      "source": [
        "from sklearn.metrics import mean_absolute_error\n",
        "print(\"Baseline Mean Absolute Error: \",mean_absolute_error(y_valid, y_pred))"
      ],
      "metadata": {
        "colab": {
          "base_uri": "https://localhost:8080/"
        },
        "id": "p7avmUGYD4iZ",
        "outputId": "0feb1c6d-84b0-4894-e291-08fef08409f2"
      },
      "execution_count": 246,
      "outputs": [
        {
          "output_type": "stream",
          "name": "stdout",
          "text": [
            "Baseline Mean Absolute Error:  17621.68949058219\n"
          ]
        }
      ]
    },
    {
      "cell_type": "code",
      "source": [
        "baseline_model.score(X_valid,y_valid)"
      ],
      "metadata": {
        "colab": {
          "base_uri": "https://localhost:8080/"
        },
        "id": "WOWIkCwOUC-c",
        "outputId": "64947731-e94d-435f-b034-116f816f7809"
      },
      "execution_count": 247,
      "outputs": [
        {
          "output_type": "execute_result",
          "data": {
            "text/plain": [
              "0.8628488678430443"
            ]
          },
          "metadata": {},
          "execution_count": 247
        }
      ]
    },
    {
      "cell_type": "markdown",
      "source": [
        "# Improving The Model"
      ],
      "metadata": {
        "id": "XL03gZIJMomS"
      }
    },
    {
      "cell_type": "code",
      "source": [
        "def score_model(n_est,X_t=X_train, X_v=X_valid, y_t=y_train, y_v=y_valid):\n",
        "    my_model = XGBRegressor(n_estimators=n_est, learning_rate=0.05)\n",
        "    my_model.fit(X_t, y_t,\n",
        "             early_stopping_rounds=5,\n",
        "             eval_set=[(X_v, y_v)],\n",
        "             verbose=False)\n",
        "    preds = my_model.predict(X_v)\n",
        "    mae = mean_absolute_error(y_v, preds)\n",
        "    score = (my_model.score(X_v, y_v))*10000\n",
        "    return mae,score\n",
        "\n",
        "for i in range(0, 21):\n",
        "    mae,score = score_model(i*50)\n",
        "    print(\"Model %d MAE: %d (n_est = %d) (Model Score = %d)\" % (i+1, mae,i*50,score))"
      ],
      "metadata": {
        "colab": {
          "base_uri": "https://localhost:8080/"
        },
        "id": "C5LPp-p4bbOl",
        "outputId": "9d4d8082-be00-425c-fb02-37587316b41e"
      },
      "execution_count": 255,
      "outputs": [
        {
          "output_type": "stream",
          "name": "stdout",
          "text": [
            "Model 1 MAE: 187488 (n_est = 0) (Model Score = -52506)\n",
            "Model 2 MAE: 19809 (n_est = 50) (Model Score = 8312)\n",
            "Model 3 MAE: 18185 (n_est = 100) (Model Score = 8561)\n",
            "Model 4 MAE: 17889 (n_est = 150) (Model Score = 8597)\n",
            "Model 5 MAE: 17860 (n_est = 200) (Model Score = 8601)\n",
            "Model 6 MAE: 17860 (n_est = 250) (Model Score = 8601)\n",
            "Model 7 MAE: 17860 (n_est = 300) (Model Score = 8601)\n",
            "Model 8 MAE: 17860 (n_est = 350) (Model Score = 8601)\n",
            "Model 9 MAE: 17860 (n_est = 400) (Model Score = 8601)\n",
            "Model 10 MAE: 17860 (n_est = 450) (Model Score = 8601)\n",
            "Model 11 MAE: 17860 (n_est = 500) (Model Score = 8601)\n",
            "Model 12 MAE: 17860 (n_est = 550) (Model Score = 8601)\n",
            "Model 13 MAE: 17860 (n_est = 600) (Model Score = 8601)\n",
            "Model 14 MAE: 17860 (n_est = 650) (Model Score = 8601)\n",
            "Model 15 MAE: 17860 (n_est = 700) (Model Score = 8601)\n",
            "Model 16 MAE: 17860 (n_est = 750) (Model Score = 8601)\n",
            "Model 17 MAE: 17860 (n_est = 800) (Model Score = 8601)\n",
            "Model 18 MAE: 17860 (n_est = 850) (Model Score = 8601)\n",
            "Model 19 MAE: 17860 (n_est = 900) (Model Score = 8601)\n",
            "Model 20 MAE: 17860 (n_est = 950) (Model Score = 8601)\n",
            "Model 21 MAE: 17860 (n_est = 1000) (Model Score = 8601)\n"
          ]
        }
      ]
    },
    {
      "cell_type": "markdown",
      "source": [
        "##Feature Selection"
      ],
      "metadata": {
        "id": "EM6E4i_qgU2i"
      }
    },
    {
      "cell_type": "code",
      "source": [
        "from sklearn.feature_selection import RFE #importing RFE class from sklearn library\n",
        "\n",
        "rfe = RFE(estimator= baseline_model , step = 100)\n",
        "# estimator clf_lr is the baseline model (basic model) that we have created under \"Base line Model\" selection\n",
        "# step = 1: removes one feature at a time and then builds a model on the remaining features\n",
        "# It uses the model accuracy to identify which features (and combination of features) contribute the most to predicting the target variable.\n",
        "# we can even provide no. of features as an argument\n",
        "\n",
        "# Fit the function for ranking the features\n",
        "fit = rfe.fit(X_train, y_train)\n",
        "\n",
        "print(\"Num Features: %d\" % fit.n_features_)\n",
        "print(\"Selected Features: %s\" % fit.support_)\n",
        "print(\"Feature Ranking: %s\" % fit.ranking_)\n",
        "selected_rfe_features = pd.DataFrame({'Feature':list(X_train.columns),'Ranking':rfe.ranking_})\n",
        "selected_rfe_features.sort_values(by='Ranking')"
      ],
      "metadata": {
        "id": "iGGf27WjMy5G",
        "colab": {
          "base_uri": "https://localhost:8080/",
          "height": 1000
        },
        "outputId": "f9b97ad6-349d-46fb-c96e-efcb4d2d71bd"
      },
      "execution_count": 150,
      "outputs": [
        {
          "output_type": "stream",
          "name": "stdout",
          "text": [
            "Num Features: 149\n",
            "Selected Features: [False  True  True  True  True  True  True  True  True  True  True  True\n",
            "  True  True  True False  True  True False  True  True  True  True  True\n",
            "  True  True  True  True  True  True  True False  True  True False  True\n",
            "  True  True  True  True  True  True False False  True  True  True False\n",
            "  True False  True False  True  True  True False False  True  True  True\n",
            "  True  True  True False False False False False  True  True  True  True\n",
            "  True  True  True  True  True  True False False  True False  True False\n",
            " False False  True  True  True False  True  True  True False  True  True\n",
            " False False False False False False False False False False False False\n",
            "  True False False  True False  True False False False False  True  True\n",
            "  True False  True False False False  True False False False False False\n",
            " False False False  True False  True  True False  True  True False  True\n",
            "  True False False False False False  True False False  True False  True\n",
            " False  True False False  True False False False  True False  True  True\n",
            " False  True  True False  True  True False  True  True False  True False\n",
            " False False  True False  True False  True  True False False False False\n",
            "  True  True False  True  True  True  True  True False False  True  True\n",
            " False False False  True False False False  True False False False False\n",
            "  True False False  True  True False False False False  True False False\n",
            "  True  True  True  True False False False False  True  True False False\n",
            "  True False  True  True False  True False  True  True  True False  True\n",
            " False  True  True False False False False False  True False False False\n",
            " False False  True  True  True  True False False False False False  True\n",
            " False False False False False False False False  True False False False\n",
            " False False  True False  True  True False False  True  True  True]\n",
            "Feature Ranking: [2 1 1 1 1 1 1 1 1 1 1 1 1 1 1 2 1 1 2 1 1 1 1 1 1 1 1 1 1 1 1 3 1 1 2 1 1\n",
            " 1 1 1 1 1 3 3 1 1 1 2 1 3 1 2 1 1 1 3 3 1 1 1 1 1 1 3 3 2 3 2 1 1 1 1 1 1\n",
            " 1 1 1 1 3 2 1 2 1 2 2 2 1 1 1 3 1 1 1 3 1 1 3 3 3 3 3 3 3 3 3 3 2 3 1 3 3\n",
            " 1 3 1 3 3 2 3 1 1 1 3 1 3 3 3 1 3 3 3 3 2 2 3 3 1 3 1 1 3 1 1 3 1 1 2 3 2\n",
            " 3 3 1 3 2 1 3 1 2 1 3 2 1 2 2 2 1 2 1 1 3 1 1 3 1 1 3 1 1 2 1 3 3 3 1 2 1\n",
            " 3 1 1 2 3 3 2 1 1 2 1 1 1 1 1 2 3 1 1 2 2 3 1 3 3 2 1 3 2 3 3 1 2 2 1 1 3\n",
            " 2 3 3 1 3 2 1 1 1 1 3 2 2 3 1 1 3 2 1 3 1 1 3 1 3 1 1 1 3 1 3 1 1 3 2 3 3\n",
            " 3 1 3 2 3 3 3 1 1 1 1 3 3 3 3 2 1 2 2 2 3 3 3 3 3 1 3 3 3 3 2 1 3 1 1 3 3\n",
            " 1 1 1]\n"
          ]
        },
        {
          "output_type": "execute_result",
          "data": {
            "text/plain": [
              "    Feature  Ranking\n",
              "298     261        1\n",
              "237     200        1\n",
              "236     199        1\n",
              "231     194        1\n",
              "230     193        1\n",
              "..      ...      ...\n",
              "123      86        3\n",
              "215     178        3\n",
              "214     177        3\n",
              "98       61        3\n",
              "149     112        3\n",
              "\n",
              "[299 rows x 2 columns]"
            ],
            "text/html": [
              "\n",
              "  <div id=\"df-91f56a2d-7cde-4986-92e7-ced1b52a6208\" class=\"colab-df-container\">\n",
              "    <div>\n",
              "<style scoped>\n",
              "    .dataframe tbody tr th:only-of-type {\n",
              "        vertical-align: middle;\n",
              "    }\n",
              "\n",
              "    .dataframe tbody tr th {\n",
              "        vertical-align: top;\n",
              "    }\n",
              "\n",
              "    .dataframe thead th {\n",
              "        text-align: right;\n",
              "    }\n",
              "</style>\n",
              "<table border=\"1\" class=\"dataframe\">\n",
              "  <thead>\n",
              "    <tr style=\"text-align: right;\">\n",
              "      <th></th>\n",
              "      <th>Feature</th>\n",
              "      <th>Ranking</th>\n",
              "    </tr>\n",
              "  </thead>\n",
              "  <tbody>\n",
              "    <tr>\n",
              "      <th>298</th>\n",
              "      <td>261</td>\n",
              "      <td>1</td>\n",
              "    </tr>\n",
              "    <tr>\n",
              "      <th>237</th>\n",
              "      <td>200</td>\n",
              "      <td>1</td>\n",
              "    </tr>\n",
              "    <tr>\n",
              "      <th>236</th>\n",
              "      <td>199</td>\n",
              "      <td>1</td>\n",
              "    </tr>\n",
              "    <tr>\n",
              "      <th>231</th>\n",
              "      <td>194</td>\n",
              "      <td>1</td>\n",
              "    </tr>\n",
              "    <tr>\n",
              "      <th>230</th>\n",
              "      <td>193</td>\n",
              "      <td>1</td>\n",
              "    </tr>\n",
              "    <tr>\n",
              "      <th>...</th>\n",
              "      <td>...</td>\n",
              "      <td>...</td>\n",
              "    </tr>\n",
              "    <tr>\n",
              "      <th>123</th>\n",
              "      <td>86</td>\n",
              "      <td>3</td>\n",
              "    </tr>\n",
              "    <tr>\n",
              "      <th>215</th>\n",
              "      <td>178</td>\n",
              "      <td>3</td>\n",
              "    </tr>\n",
              "    <tr>\n",
              "      <th>214</th>\n",
              "      <td>177</td>\n",
              "      <td>3</td>\n",
              "    </tr>\n",
              "    <tr>\n",
              "      <th>98</th>\n",
              "      <td>61</td>\n",
              "      <td>3</td>\n",
              "    </tr>\n",
              "    <tr>\n",
              "      <th>149</th>\n",
              "      <td>112</td>\n",
              "      <td>3</td>\n",
              "    </tr>\n",
              "  </tbody>\n",
              "</table>\n",
              "<p>299 rows × 2 columns</p>\n",
              "</div>\n",
              "    <div class=\"colab-df-buttons\">\n",
              "\n",
              "  <div class=\"colab-df-container\">\n",
              "    <button class=\"colab-df-convert\" onclick=\"convertToInteractive('df-91f56a2d-7cde-4986-92e7-ced1b52a6208')\"\n",
              "            title=\"Convert this dataframe to an interactive table.\"\n",
              "            style=\"display:none;\">\n",
              "\n",
              "  <svg xmlns=\"http://www.w3.org/2000/svg\" height=\"24px\" viewBox=\"0 -960 960 960\">\n",
              "    <path d=\"M120-120v-720h720v720H120Zm60-500h600v-160H180v160Zm220 220h160v-160H400v160Zm0 220h160v-160H400v160ZM180-400h160v-160H180v160Zm440 0h160v-160H620v160ZM180-180h160v-160H180v160Zm440 0h160v-160H620v160Z\"/>\n",
              "  </svg>\n",
              "    </button>\n",
              "\n",
              "  <style>\n",
              "    .colab-df-container {\n",
              "      display:flex;\n",
              "      gap: 12px;\n",
              "    }\n",
              "\n",
              "    .colab-df-convert {\n",
              "      background-color: #E8F0FE;\n",
              "      border: none;\n",
              "      border-radius: 50%;\n",
              "      cursor: pointer;\n",
              "      display: none;\n",
              "      fill: #1967D2;\n",
              "      height: 32px;\n",
              "      padding: 0 0 0 0;\n",
              "      width: 32px;\n",
              "    }\n",
              "\n",
              "    .colab-df-convert:hover {\n",
              "      background-color: #E2EBFA;\n",
              "      box-shadow: 0px 1px 2px rgba(60, 64, 67, 0.3), 0px 1px 3px 1px rgba(60, 64, 67, 0.15);\n",
              "      fill: #174EA6;\n",
              "    }\n",
              "\n",
              "    .colab-df-buttons div {\n",
              "      margin-bottom: 4px;\n",
              "    }\n",
              "\n",
              "    [theme=dark] .colab-df-convert {\n",
              "      background-color: #3B4455;\n",
              "      fill: #D2E3FC;\n",
              "    }\n",
              "\n",
              "    [theme=dark] .colab-df-convert:hover {\n",
              "      background-color: #434B5C;\n",
              "      box-shadow: 0px 1px 3px 1px rgba(0, 0, 0, 0.15);\n",
              "      filter: drop-shadow(0px 1px 2px rgba(0, 0, 0, 0.3));\n",
              "      fill: #FFFFFF;\n",
              "    }\n",
              "  </style>\n",
              "\n",
              "    <script>\n",
              "      const buttonEl =\n",
              "        document.querySelector('#df-91f56a2d-7cde-4986-92e7-ced1b52a6208 button.colab-df-convert');\n",
              "      buttonEl.style.display =\n",
              "        google.colab.kernel.accessAllowed ? 'block' : 'none';\n",
              "\n",
              "      async function convertToInteractive(key) {\n",
              "        const element = document.querySelector('#df-91f56a2d-7cde-4986-92e7-ced1b52a6208');\n",
              "        const dataTable =\n",
              "          await google.colab.kernel.invokeFunction('convertToInteractive',\n",
              "                                                    [key], {});\n",
              "        if (!dataTable) return;\n",
              "\n",
              "        const docLinkHtml = 'Like what you see? Visit the ' +\n",
              "          '<a target=\"_blank\" href=https://colab.research.google.com/notebooks/data_table.ipynb>data table notebook</a>'\n",
              "          + ' to learn more about interactive tables.';\n",
              "        element.innerHTML = '';\n",
              "        dataTable['output_type'] = 'display_data';\n",
              "        await google.colab.output.renderOutput(dataTable, element);\n",
              "        const docLink = document.createElement('div');\n",
              "        docLink.innerHTML = docLinkHtml;\n",
              "        element.appendChild(docLink);\n",
              "      }\n",
              "    </script>\n",
              "  </div>\n",
              "\n",
              "\n",
              "<div id=\"df-8f33d8f0-466e-452d-af3b-920138267ce2\">\n",
              "  <button class=\"colab-df-quickchart\" onclick=\"quickchart('df-8f33d8f0-466e-452d-af3b-920138267ce2')\"\n",
              "            title=\"Suggest charts\"\n",
              "            style=\"display:none;\">\n",
              "\n",
              "<svg xmlns=\"http://www.w3.org/2000/svg\" height=\"24px\"viewBox=\"0 0 24 24\"\n",
              "     width=\"24px\">\n",
              "    <g>\n",
              "        <path d=\"M19 3H5c-1.1 0-2 .9-2 2v14c0 1.1.9 2 2 2h14c1.1 0 2-.9 2-2V5c0-1.1-.9-2-2-2zM9 17H7v-7h2v7zm4 0h-2V7h2v10zm4 0h-2v-4h2v4z\"/>\n",
              "    </g>\n",
              "</svg>\n",
              "  </button>\n",
              "\n",
              "<style>\n",
              "  .colab-df-quickchart {\n",
              "      --bg-color: #E8F0FE;\n",
              "      --fill-color: #1967D2;\n",
              "      --hover-bg-color: #E2EBFA;\n",
              "      --hover-fill-color: #174EA6;\n",
              "      --disabled-fill-color: #AAA;\n",
              "      --disabled-bg-color: #DDD;\n",
              "  }\n",
              "\n",
              "  [theme=dark] .colab-df-quickchart {\n",
              "      --bg-color: #3B4455;\n",
              "      --fill-color: #D2E3FC;\n",
              "      --hover-bg-color: #434B5C;\n",
              "      --hover-fill-color: #FFFFFF;\n",
              "      --disabled-bg-color: #3B4455;\n",
              "      --disabled-fill-color: #666;\n",
              "  }\n",
              "\n",
              "  .colab-df-quickchart {\n",
              "    background-color: var(--bg-color);\n",
              "    border: none;\n",
              "    border-radius: 50%;\n",
              "    cursor: pointer;\n",
              "    display: none;\n",
              "    fill: var(--fill-color);\n",
              "    height: 32px;\n",
              "    padding: 0;\n",
              "    width: 32px;\n",
              "  }\n",
              "\n",
              "  .colab-df-quickchart:hover {\n",
              "    background-color: var(--hover-bg-color);\n",
              "    box-shadow: 0 1px 2px rgba(60, 64, 67, 0.3), 0 1px 3px 1px rgba(60, 64, 67, 0.15);\n",
              "    fill: var(--button-hover-fill-color);\n",
              "  }\n",
              "\n",
              "  .colab-df-quickchart-complete:disabled,\n",
              "  .colab-df-quickchart-complete:disabled:hover {\n",
              "    background-color: var(--disabled-bg-color);\n",
              "    fill: var(--disabled-fill-color);\n",
              "    box-shadow: none;\n",
              "  }\n",
              "\n",
              "  .colab-df-spinner {\n",
              "    border: 2px solid var(--fill-color);\n",
              "    border-color: transparent;\n",
              "    border-bottom-color: var(--fill-color);\n",
              "    animation:\n",
              "      spin 1s steps(1) infinite;\n",
              "  }\n",
              "\n",
              "  @keyframes spin {\n",
              "    0% {\n",
              "      border-color: transparent;\n",
              "      border-bottom-color: var(--fill-color);\n",
              "      border-left-color: var(--fill-color);\n",
              "    }\n",
              "    20% {\n",
              "      border-color: transparent;\n",
              "      border-left-color: var(--fill-color);\n",
              "      border-top-color: var(--fill-color);\n",
              "    }\n",
              "    30% {\n",
              "      border-color: transparent;\n",
              "      border-left-color: var(--fill-color);\n",
              "      border-top-color: var(--fill-color);\n",
              "      border-right-color: var(--fill-color);\n",
              "    }\n",
              "    40% {\n",
              "      border-color: transparent;\n",
              "      border-right-color: var(--fill-color);\n",
              "      border-top-color: var(--fill-color);\n",
              "    }\n",
              "    60% {\n",
              "      border-color: transparent;\n",
              "      border-right-color: var(--fill-color);\n",
              "    }\n",
              "    80% {\n",
              "      border-color: transparent;\n",
              "      border-right-color: var(--fill-color);\n",
              "      border-bottom-color: var(--fill-color);\n",
              "    }\n",
              "    90% {\n",
              "      border-color: transparent;\n",
              "      border-bottom-color: var(--fill-color);\n",
              "    }\n",
              "  }\n",
              "</style>\n",
              "\n",
              "  <script>\n",
              "    async function quickchart(key) {\n",
              "      const quickchartButtonEl =\n",
              "        document.querySelector('#' + key + ' button');\n",
              "      quickchartButtonEl.disabled = true;  // To prevent multiple clicks.\n",
              "      quickchartButtonEl.classList.add('colab-df-spinner');\n",
              "      try {\n",
              "        const charts = await google.colab.kernel.invokeFunction(\n",
              "            'suggestCharts', [key], {});\n",
              "      } catch (error) {\n",
              "        console.error('Error during call to suggestCharts:', error);\n",
              "      }\n",
              "      quickchartButtonEl.classList.remove('colab-df-spinner');\n",
              "      quickchartButtonEl.classList.add('colab-df-quickchart-complete');\n",
              "    }\n",
              "    (() => {\n",
              "      let quickchartButtonEl =\n",
              "        document.querySelector('#df-8f33d8f0-466e-452d-af3b-920138267ce2 button');\n",
              "      quickchartButtonEl.style.display =\n",
              "        google.colab.kernel.accessAllowed ? 'block' : 'none';\n",
              "    })();\n",
              "  </script>\n",
              "</div>\n",
              "\n",
              "    </div>\n",
              "  </div>\n"
            ],
            "application/vnd.google.colaboratory.intrinsic+json": {
              "type": "dataframe",
              "summary": "{\n  \"name\": \"selected_rfe_features\",\n  \"rows\": 299,\n  \"fields\": [\n    {\n      \"column\": \"Feature\",\n      \"properties\": {\n        \"dtype\": \"string\",\n        \"num_unique_values\": 299,\n        \"samples\": [\n          \"68\",\n          \"143\",\n          \"190\"\n        ],\n        \"semantic_type\": \"\",\n        \"description\": \"\"\n      }\n    },\n    {\n      \"column\": \"Ranking\",\n      \"properties\": {\n        \"dtype\": \"number\",\n        \"std\": 0,\n        \"min\": 1,\n        \"max\": 3,\n        \"num_unique_values\": 3,\n        \"samples\": [\n          1,\n          2,\n          3\n        ],\n        \"semantic_type\": \"\",\n        \"description\": \"\"\n      }\n    }\n  ]\n}"
            }
          },
          "metadata": {},
          "execution_count": 150
        }
      ]
    },
    {
      "cell_type": "code",
      "source": [
        "# Transforming the data\n",
        "X_train_rfe = rfe.transform(X_train)\n",
        "X_test_rfe = rfe.transform(X_valid)\n",
        "\n",
        "# Fitting our baseline model with the transformed data\n",
        "lr_rfe_model = baseline_model.fit(X_train_rfe, y_train)"
      ],
      "metadata": {
        "id": "WrsXItUeicD7"
      },
      "execution_count": 151,
      "outputs": []
    },
    {
      "cell_type": "code",
      "source": [
        "y_pred_rfe = lr_rfe_model.predict(X_test_rfe)"
      ],
      "metadata": {
        "id": "5uBieQSui2rR"
      },
      "execution_count": 152,
      "outputs": []
    },
    {
      "cell_type": "code",
      "source": [
        "print(\"rfe Mean Absolute Error: \",mean_absolute_error(y_valid, y_pred_rfe))"
      ],
      "metadata": {
        "colab": {
          "base_uri": "https://localhost:8080/"
        },
        "id": "1-bKAQIEjI0y",
        "outputId": "152e4d85-ef1f-408d-e09c-e1d92f92fe5a"
      },
      "execution_count": 277,
      "outputs": [
        {
          "output_type": "stream",
          "name": "stdout",
          "text": [
            "rfe Mean Absolute Error:  17471.053692208905\n"
          ]
        }
      ]
    },
    {
      "cell_type": "code",
      "source": [
        "lr_rfe_model.score(X_test_rfe,y_pred_rfe)"
      ],
      "metadata": {
        "colab": {
          "base_uri": "https://localhost:8080/"
        },
        "id": "zSFA7WnfUdbB",
        "outputId": "355280e7-70fa-42fe-c278-8b5005d52eba"
      },
      "execution_count": 154,
      "outputs": [
        {
          "output_type": "execute_result",
          "data": {
            "text/plain": [
              "1.0"
            ]
          },
          "metadata": {},
          "execution_count": 154
        }
      ]
    },
    {
      "cell_type": "markdown",
      "source": [
        "# Predicting test values with final model"
      ],
      "metadata": {
        "id": "PVfNiC71Mz7D"
      }
    },
    {
      "cell_type": "markdown",
      "source": [
        "###Preparing the Test Dataset for Prediction"
      ],
      "metadata": {
        "id": "8QBmjUu6jKWG"
      }
    },
    {
      "cell_type": "code",
      "source": [
        "imputed_test = pd.DataFrame(my_imputer.transform(test_no))\n",
        "imputed_test.columns = test_no.columns"
      ],
      "metadata": {
        "id": "2U9YWojsQSjo"
      },
      "execution_count": 113,
      "outputs": []
    },
    {
      "cell_type": "code",
      "source": [
        "test_cat = test.select_dtypes(include=['object'])\n",
        "test_cat=test_cat.fillna(\"MISSING\")"
      ],
      "metadata": {
        "id": "H6WOPEB2Q48T"
      },
      "execution_count": 114,
      "outputs": []
    },
    {
      "cell_type": "code",
      "source": [
        "OH_cols_test = pd.DataFrame(OH_encoder.transform(test_cat))\n",
        "OH_cols_test.index = test_cat.index\n",
        "OH_test = pd.concat([imputed_test.reset_index(drop=True), OH_cols_test.reset_index(drop=True)], axis=1)\n",
        "OH_test.columns = OH_test.columns.astype(str)\n",
        "test = OH_test.copy()\n",
        "test.shape"
      ],
      "metadata": {
        "colab": {
          "base_uri": "https://localhost:8080/"
        },
        "id": "b9F3zYDwRMMm",
        "outputId": "9de35d51-e190-4dc7-81ec-0c0f40887ab1"
      },
      "execution_count": 115,
      "outputs": [
        {
          "output_type": "execute_result",
          "data": {
            "text/plain": [
              "(1459, 293)"
            ]
          },
          "metadata": {},
          "execution_count": 115
        }
      ]
    },
    {
      "cell_type": "code",
      "source": [
        "y_pred=baseline_model.predict(test)"
      ],
      "metadata": {
        "id": "c8nAobZzNH5o"
      },
      "execution_count": 116,
      "outputs": []
    },
    {
      "cell_type": "code",
      "source": [
        "y_pred_rfe = lr_rfe_model.predict(X_test_rfe)"
      ],
      "metadata": {
        "id": "RjSQia52uhsW"
      },
      "execution_count": 155,
      "outputs": []
    },
    {
      "cell_type": "markdown",
      "source": [
        "# Creating Submission.csv"
      ],
      "metadata": {
        "id": "me3uKxpwNJF_"
      }
    },
    {
      "cell_type": "code",
      "source": [
        "dict = {'Id':list(test.Id),\n",
        "        'SalePrice':list(y_pred)}\n",
        "sub = pd.DataFrame(dict)\n",
        "convert_dict = {'Id': int,\n",
        "                'SalePrice': float\n",
        "                }\n",
        "sub = sub.astype(convert_dict)\n",
        "sub.Id\n",
        "sub.to_csv('sub.csv',index=False,header = True)"
      ],
      "metadata": {
        "id": "6Y0p17ynNR2A"
      },
      "execution_count": 129,
      "outputs": []
    },
    {
      "cell_type": "code",
      "source": [
        "dict_1 = {'Id':list(test.Id),\n",
        "        'SalePrice':list(y_pred_rfe)}\n",
        "sub = pd.DataFrame(dict)\n",
        "convert_dict = {'Id': int,\n",
        "                'SalePrice': float\n",
        "                }\n",
        "sub = sub.astype(convert_dict)\n",
        "sub.Id\n",
        "sub.to_csv('btr_sub.csv',index=False,header = True)"
      ],
      "metadata": {
        "id": "sZKMECtaUN79"
      },
      "execution_count": 156,
      "outputs": []
    },
    {
      "cell_type": "markdown",
      "source": [
        "##Rank on the House Prices - Advanced Regression Techniques Competition : 2256"
      ],
      "metadata": {
        "id": "IWCEkMZXioaV"
      }
    }
  ]
}